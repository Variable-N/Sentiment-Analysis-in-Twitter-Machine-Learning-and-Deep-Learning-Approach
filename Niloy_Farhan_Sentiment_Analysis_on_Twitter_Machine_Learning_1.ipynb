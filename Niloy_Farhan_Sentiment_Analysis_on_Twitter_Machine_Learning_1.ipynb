{
  "nbformat": 4,
  "nbformat_minor": 0,
  "metadata": {
    "colab": {
      "name": "Niloy Farhan Sentiment Analysis on Twitter: Machine Learning - 1.ipynb",
      "provenance": []
    },
    "kernelspec": {
      "name": "python3",
      "display_name": "Python 3"
    },
    "language_info": {
      "name": "python"
    },
    "accelerator": "GPU"
  },
  "cells": [
    {
      "cell_type": "markdown",
      "source": [
        "# Sentiment Analysis on Twitter: Machine Learning Approach\n",
        "\n",
        "Model used: Logistic Regression, Support Vector Classifier and Naive Bayes\n",
        "\n",
        "Best Score without pre-processing (TF-IDF Vectorizer):\n",
        "\n",
        "77% Accuracy on SVC\n",
        "\n",
        "Best Score after pre-processing (TF-IDF Vectorizer):\n",
        "\n",
        "78% Accuracy on SVC"
      ],
      "metadata": {
        "id": "ZIqb43t8hUZN"
      }
    },
    {
      "cell_type": "markdown",
      "source": [
        "# Imports"
      ],
      "metadata": {
        "id": "LvwxERC8bjYN"
      }
    },
    {
      "cell_type": "code",
      "execution_count": 14,
      "metadata": {
        "id": "H8EULbXxbP-q"
      },
      "outputs": [],
      "source": [
        "import pandas as pd\n",
        "from sklearn.feature_extraction.text import TfidfVectorizer\n",
        "from sklearn.linear_model import LogisticRegression \n",
        "from sklearn.naive_bayes import ComplementNB\n",
        "from sklearn.svm import SVC\n",
        "import string\n",
        "from sklearn.model_selection import train_test_split\n",
        "from sklearn.metrics import classification_report, accuracy_score, f1_score\n",
        "import numpy as np\n",
        "import re\n",
        "from sklearn.utils import resample\n",
        "import nltk\n",
        "from nltk.corpus import stopwords\n"
      ]
    },
    {
      "cell_type": "code",
      "source": [
        "nltk.download('stopwords')\n"
      ],
      "metadata": {
        "colab": {
          "base_uri": "https://localhost:8080/"
        },
        "id": "IVQZeTxbeqZu",
        "outputId": "62841d6a-659a-42b8-a8cd-c69be4f766d8"
      },
      "execution_count": 15,
      "outputs": [
        {
          "output_type": "stream",
          "name": "stdout",
          "text": [
            "[nltk_data] Downloading package stopwords to /root/nltk_data...\n",
            "[nltk_data]   Unzipping corpora/stopwords.zip.\n"
          ]
        },
        {
          "output_type": "execute_result",
          "data": {
            "text/plain": [
              "True"
            ]
          },
          "metadata": {},
          "execution_count": 15
        }
      ]
    },
    {
      "cell_type": "markdown",
      "source": [
        "# Dataset import"
      ],
      "metadata": {
        "id": "02T8QjphcFw_"
      }
    },
    {
      "cell_type": "code",
      "source": [
        "df1 = pd.read_csv(\"/content/drive/MyDrive/Bracu/Spring2022/CSE440/Project/Dataset/twitter-2013dev-A.txt\", sep = '\\t', names = ['id','sentiment','tweets'])\n",
        "df1 = df1.drop(labels=[\"id\"], axis = 1)\n",
        "df2 = pd.read_csv(\"/content/drive/MyDrive/Bracu/Spring2022/CSE440/Project/Dataset/twitter-2013test-A.txt\", sep = '\\t', names = ['id','sentiment','tweets'])\n",
        "df2 = df2.drop(labels=[\"id\"], axis = 1)\n",
        "df3 = pd.read_csv(\"/content/drive/MyDrive/Bracu/Spring2022/CSE440/Project/Dataset/twitter-2013train-A.txt\", sep = '\\t', names = ['id','sentiment','tweets'])\n",
        "df3 = df3.drop(labels=[\"id\"], axis = 1)\n",
        "df4 = pd.read_csv(\"/content/drive/MyDrive/Bracu/Spring2022/CSE440/Project/Dataset/twitter-2014sarcasm-A.txt\", sep = '\\t', names = ['id','sentiment','tweets'])\n",
        "df4 = df4.drop(labels=[\"id\"], axis = 1)\n",
        "df5 = pd.read_csv(\"/content/drive/MyDrive/Bracu/Spring2022/CSE440/Project/Dataset/twitter-2015test-A.txt\", sep = '\\t', names = ['id','sentiment','tweets'])\n",
        "df5 = df5.drop(labels=[\"id\"], axis = 1)\n",
        "df6 = pd.read_csv(\"/content/drive/MyDrive/Bracu/Spring2022/CSE440/Project/Dataset/twitter-2015train-A.txt\", sep = '\\t', names = ['id','sentiment','tweets'])\n",
        "df6 = df6.drop(labels=[\"id\"], axis = 1)\n",
        "df7 = pd.read_csv(\"/content/drive/MyDrive/Bracu/Spring2022/CSE440/Project/Dataset/twitter-2016dev-A.txt\", sep = '\\t', names = ['id','sentiment','tweets'])\n",
        "df7 = df7.drop(labels=[\"id\"], axis = 1)\n",
        "df8 = pd.read_csv(\"/content/drive/MyDrive/Bracu/Spring2022/CSE440/Project/Dataset/twitter-2016devtest-A.txt\", sep = '\\t', names = ['id','sentiment','tweets'])\n",
        "df8 = df8.drop(labels=[\"id\"], axis = 1)\n",
        "df9 = pd.read_csv(\"/content/drive/MyDrive/Bracu/Spring2022/CSE440/Project/Dataset/twitter-2016train-A.txt\", sep = '\\t', names = ['id','sentiment','tweets'])\n",
        "df9 = df9.drop(labels=[\"id\"], axis = 1)"
      ],
      "metadata": {
        "id": "3Fy4txPTblC4"
      },
      "execution_count": 2,
      "outputs": []
    },
    {
      "cell_type": "code",
      "source": [
        "df = pd.concat([df3,df5,df8,df9]).reset_index(drop=True)\n",
        "\n",
        "df"
      ],
      "metadata": {
        "colab": {
          "base_uri": "https://localhost:8080/",
          "height": 423
        },
        "id": "SdL22IrvcJD3",
        "outputId": "c438b356-55cd-45ee-d801-506063d316a6"
      },
      "execution_count": 3,
      "outputs": [
        {
          "output_type": "execute_result",
          "data": {
            "text/plain": [
              "      sentiment                                             tweets\n",
              "0      positive  Gas by my house hit $3.39!!!! I\\u2019m going t...\n",
              "1      negative  Theo Walcott is still shit\\u002c watch Rafa an...\n",
              "2      negative  its not that I\\u2019m a GSP fan\\u002c i just h...\n",
              "3      negative  Iranian general says Israel\\u2019s Iron Dome c...\n",
              "4       neutral  Tehran\\u002c Mon Amour: Obama Tried to Establi...\n",
              "...         ...                                                ...\n",
              "19937  positive  @Racalto_SK ok good to know. Punting at MetLif...\n",
              "19938   neutral  everyone who sat around me at metlife was so a...\n",
              "19939   neutral  what giants or niners fans would wanna go to t...\n",
              "19940  positive  Anybody want a ticket for tomorrow Colombia vs...\n",
              "19941   neutral  Mendez told me he'd drive me to MetLife on Sun...\n",
              "\n",
              "[19942 rows x 2 columns]"
            ],
            "text/html": [
              "\n",
              "  <div id=\"df-126878ea-1b67-4e51-ad08-524aa8101ac3\">\n",
              "    <div class=\"colab-df-container\">\n",
              "      <div>\n",
              "<style scoped>\n",
              "    .dataframe tbody tr th:only-of-type {\n",
              "        vertical-align: middle;\n",
              "    }\n",
              "\n",
              "    .dataframe tbody tr th {\n",
              "        vertical-align: top;\n",
              "    }\n",
              "\n",
              "    .dataframe thead th {\n",
              "        text-align: right;\n",
              "    }\n",
              "</style>\n",
              "<table border=\"1\" class=\"dataframe\">\n",
              "  <thead>\n",
              "    <tr style=\"text-align: right;\">\n",
              "      <th></th>\n",
              "      <th>sentiment</th>\n",
              "      <th>tweets</th>\n",
              "    </tr>\n",
              "  </thead>\n",
              "  <tbody>\n",
              "    <tr>\n",
              "      <th>0</th>\n",
              "      <td>positive</td>\n",
              "      <td>Gas by my house hit $3.39!!!! I\\u2019m going t...</td>\n",
              "    </tr>\n",
              "    <tr>\n",
              "      <th>1</th>\n",
              "      <td>negative</td>\n",
              "      <td>Theo Walcott is still shit\\u002c watch Rafa an...</td>\n",
              "    </tr>\n",
              "    <tr>\n",
              "      <th>2</th>\n",
              "      <td>negative</td>\n",
              "      <td>its not that I\\u2019m a GSP fan\\u002c i just h...</td>\n",
              "    </tr>\n",
              "    <tr>\n",
              "      <th>3</th>\n",
              "      <td>negative</td>\n",
              "      <td>Iranian general says Israel\\u2019s Iron Dome c...</td>\n",
              "    </tr>\n",
              "    <tr>\n",
              "      <th>4</th>\n",
              "      <td>neutral</td>\n",
              "      <td>Tehran\\u002c Mon Amour: Obama Tried to Establi...</td>\n",
              "    </tr>\n",
              "    <tr>\n",
              "      <th>...</th>\n",
              "      <td>...</td>\n",
              "      <td>...</td>\n",
              "    </tr>\n",
              "    <tr>\n",
              "      <th>19937</th>\n",
              "      <td>positive</td>\n",
              "      <td>@Racalto_SK ok good to know. Punting at MetLif...</td>\n",
              "    </tr>\n",
              "    <tr>\n",
              "      <th>19938</th>\n",
              "      <td>neutral</td>\n",
              "      <td>everyone who sat around me at metlife was so a...</td>\n",
              "    </tr>\n",
              "    <tr>\n",
              "      <th>19939</th>\n",
              "      <td>neutral</td>\n",
              "      <td>what giants or niners fans would wanna go to t...</td>\n",
              "    </tr>\n",
              "    <tr>\n",
              "      <th>19940</th>\n",
              "      <td>positive</td>\n",
              "      <td>Anybody want a ticket for tomorrow Colombia vs...</td>\n",
              "    </tr>\n",
              "    <tr>\n",
              "      <th>19941</th>\n",
              "      <td>neutral</td>\n",
              "      <td>Mendez told me he'd drive me to MetLife on Sun...</td>\n",
              "    </tr>\n",
              "  </tbody>\n",
              "</table>\n",
              "<p>19942 rows × 2 columns</p>\n",
              "</div>\n",
              "      <button class=\"colab-df-convert\" onclick=\"convertToInteractive('df-126878ea-1b67-4e51-ad08-524aa8101ac3')\"\n",
              "              title=\"Convert this dataframe to an interactive table.\"\n",
              "              style=\"display:none;\">\n",
              "        \n",
              "  <svg xmlns=\"http://www.w3.org/2000/svg\" height=\"24px\"viewBox=\"0 0 24 24\"\n",
              "       width=\"24px\">\n",
              "    <path d=\"M0 0h24v24H0V0z\" fill=\"none\"/>\n",
              "    <path d=\"M18.56 5.44l.94 2.06.94-2.06 2.06-.94-2.06-.94-.94-2.06-.94 2.06-2.06.94zm-11 1L8.5 8.5l.94-2.06 2.06-.94-2.06-.94L8.5 2.5l-.94 2.06-2.06.94zm10 10l.94 2.06.94-2.06 2.06-.94-2.06-.94-.94-2.06-.94 2.06-2.06.94z\"/><path d=\"M17.41 7.96l-1.37-1.37c-.4-.4-.92-.59-1.43-.59-.52 0-1.04.2-1.43.59L10.3 9.45l-7.72 7.72c-.78.78-.78 2.05 0 2.83L4 21.41c.39.39.9.59 1.41.59.51 0 1.02-.2 1.41-.59l7.78-7.78 2.81-2.81c.8-.78.8-2.07 0-2.86zM5.41 20L4 18.59l7.72-7.72 1.47 1.35L5.41 20z\"/>\n",
              "  </svg>\n",
              "      </button>\n",
              "      \n",
              "  <style>\n",
              "    .colab-df-container {\n",
              "      display:flex;\n",
              "      flex-wrap:wrap;\n",
              "      gap: 12px;\n",
              "    }\n",
              "\n",
              "    .colab-df-convert {\n",
              "      background-color: #E8F0FE;\n",
              "      border: none;\n",
              "      border-radius: 50%;\n",
              "      cursor: pointer;\n",
              "      display: none;\n",
              "      fill: #1967D2;\n",
              "      height: 32px;\n",
              "      padding: 0 0 0 0;\n",
              "      width: 32px;\n",
              "    }\n",
              "\n",
              "    .colab-df-convert:hover {\n",
              "      background-color: #E2EBFA;\n",
              "      box-shadow: 0px 1px 2px rgba(60, 64, 67, 0.3), 0px 1px 3px 1px rgba(60, 64, 67, 0.15);\n",
              "      fill: #174EA6;\n",
              "    }\n",
              "\n",
              "    [theme=dark] .colab-df-convert {\n",
              "      background-color: #3B4455;\n",
              "      fill: #D2E3FC;\n",
              "    }\n",
              "\n",
              "    [theme=dark] .colab-df-convert:hover {\n",
              "      background-color: #434B5C;\n",
              "      box-shadow: 0px 1px 3px 1px rgba(0, 0, 0, 0.15);\n",
              "      filter: drop-shadow(0px 1px 2px rgba(0, 0, 0, 0.3));\n",
              "      fill: #FFFFFF;\n",
              "    }\n",
              "  </style>\n",
              "\n",
              "      <script>\n",
              "        const buttonEl =\n",
              "          document.querySelector('#df-126878ea-1b67-4e51-ad08-524aa8101ac3 button.colab-df-convert');\n",
              "        buttonEl.style.display =\n",
              "          google.colab.kernel.accessAllowed ? 'block' : 'none';\n",
              "\n",
              "        async function convertToInteractive(key) {\n",
              "          const element = document.querySelector('#df-126878ea-1b67-4e51-ad08-524aa8101ac3');\n",
              "          const dataTable =\n",
              "            await google.colab.kernel.invokeFunction('convertToInteractive',\n",
              "                                                     [key], {});\n",
              "          if (!dataTable) return;\n",
              "\n",
              "          const docLinkHtml = 'Like what you see? Visit the ' +\n",
              "            '<a target=\"_blank\" href=https://colab.research.google.com/notebooks/data_table.ipynb>data table notebook</a>'\n",
              "            + ' to learn more about interactive tables.';\n",
              "          element.innerHTML = '';\n",
              "          dataTable['output_type'] = 'display_data';\n",
              "          await google.colab.output.renderOutput(dataTable, element);\n",
              "          const docLink = document.createElement('div');\n",
              "          docLink.innerHTML = docLinkHtml;\n",
              "          element.appendChild(docLink);\n",
              "        }\n",
              "      </script>\n",
              "    </div>\n",
              "  </div>\n",
              "  "
            ]
          },
          "metadata": {},
          "execution_count": 3
        }
      ]
    },
    {
      "cell_type": "markdown",
      "source": [
        "# Balancing the dataset\n",
        "\n",
        "Our dataset is unbalanced when it comes to negative sentiment. So, we will resample to balance it."
      ],
      "metadata": {
        "id": "iPUQFwqBcVHg"
      }
    },
    {
      "cell_type": "code",
      "source": [
        "df['sentiment'].value_counts()"
      ],
      "metadata": {
        "colab": {
          "base_uri": "https://localhost:8080/"
        },
        "id": "CaMN4nDjcU6-",
        "outputId": "bb832696-72dc-4e54-ca26-41627cda2764"
      },
      "execution_count": 4,
      "outputs": [
        {
          "output_type": "execute_result",
          "data": {
            "text/plain": [
              "positive    8689\n",
              "neutral     8255\n",
              "negative    2998\n",
              "Name: sentiment, dtype: int64"
            ]
          },
          "metadata": {},
          "execution_count": 4
        }
      ]
    },
    {
      "cell_type": "code",
      "source": [
        "def dataset_balance(data):\n",
        "    data_positive = data[(data['sentiment']=='positive')]\n",
        "    data_neutral = data[(data['sentiment']=='neutral')]\n",
        "    data_negative = data[(data['sentiment']=='negative')]\n",
        "    data_negative_upsampled = resample(data_negative, replace = True, n_samples =  data['sentiment'].value_counts()[1], random_state = 42)\n",
        "    balanced_dataset = pd.concat([data_positive,data_neutral,data_negative_upsampled]).reset_index(drop=True)\n",
        "    return balanced_dataset"
      ],
      "metadata": {
        "id": "Ni9xIdBVcetz"
      },
      "execution_count": 5,
      "outputs": []
    },
    {
      "cell_type": "code",
      "source": [
        "df = dataset_balance(df)\n",
        "df['sentiment'].value_counts()"
      ],
      "metadata": {
        "colab": {
          "base_uri": "https://localhost:8080/"
        },
        "id": "rZQ_HHa-cgk-",
        "outputId": "5ec05da0-ead0-476f-df5f-ec57d89fd753"
      },
      "execution_count": 6,
      "outputs": [
        {
          "output_type": "execute_result",
          "data": {
            "text/plain": [
              "positive    8689\n",
              "neutral     8255\n",
              "negative    8255\n",
              "Name: sentiment, dtype: int64"
            ]
          },
          "metadata": {},
          "execution_count": 6
        }
      ]
    },
    {
      "cell_type": "markdown",
      "source": [
        "# Without Preprocessing\n",
        "# TF-IDF"
      ],
      "metadata": {
        "id": "5XtoTqk3cjK4"
      }
    },
    {
      "cell_type": "code",
      "source": [
        "def label_encoder(x):\n",
        "    if x == 'positive': return 2\n",
        "    elif x == 'negative': return 0\n",
        "    else: return 1"
      ],
      "metadata": {
        "id": "4rSQm_2WczTI"
      },
      "execution_count": 8,
      "outputs": []
    },
    {
      "cell_type": "code",
      "source": [
        "tf_idf = TfidfVectorizer()\n",
        "X = tf_idf.fit(df['tweets']).transform(df['tweets'])\n",
        "Y = df.sentiment.apply(lambda x: label_encoder(x))\n",
        "X_train, X_test, Y_train, Y_test = train_test_split(X, Y, train_size = 0.8, shuffle = True)"
      ],
      "metadata": {
        "id": "Kr3I6-Bgcils"
      },
      "execution_count": 9,
      "outputs": []
    },
    {
      "cell_type": "code",
      "source": [
        "model_LR = LogisticRegression(max_iter=10000).fit(X_train,Y_train)\n",
        "model_SVM = SVC(kernel='rbf', random_state = 1).fit(X_train, Y_train)\n",
        "model_NB = ComplementNB().fit(X_train,Y_train)"
      ],
      "metadata": {
        "id": "mLztuNO4c5w7"
      },
      "execution_count": 11,
      "outputs": []
    },
    {
      "cell_type": "markdown",
      "source": [
        "# Score on Test Set"
      ],
      "metadata": {
        "id": "9I0Ei3tHdAU9"
      }
    },
    {
      "cell_type": "code",
      "source": [
        "LR_score = classification_report(Y_test, model_LR.predict(X_test))\n",
        "SVC_score = classification_report(Y_test, model_SVM.predict(X_test))\n",
        "NB_score = classification_report(Y_test, model_NB.predict(X_test))\n",
        "print(\"LOGISTIC REGRESSION\")\n",
        "print(LR_score)\n",
        "print(\"SUPPORT VECTOR CLASSIFICATION\")\n",
        "print(SVC_score)\n",
        "print(\"NAIVE BAYES CLASSIFICATION\")\n",
        "print(NB_score)"
      ],
      "metadata": {
        "colab": {
          "base_uri": "https://localhost:8080/"
        },
        "id": "J6m1OEO1c7PN",
        "outputId": "7aeebc31-2e5c-4422-cc2d-900e1ecb1cae"
      },
      "execution_count": 12,
      "outputs": [
        {
          "output_type": "stream",
          "name": "stdout",
          "text": [
            "LOGISTIC REGRESSION\n",
            "              precision    recall  f1-score   support\n",
            "\n",
            "           0       0.78      0.86      0.82      1635\n",
            "           1       0.66      0.65      0.65      1687\n",
            "           2       0.72      0.66      0.69      1718\n",
            "\n",
            "    accuracy                           0.72      5040\n",
            "   macro avg       0.72      0.72      0.72      5040\n",
            "weighted avg       0.72      0.72      0.72      5040\n",
            "\n",
            "SUPPORT VECTOR CLASSIFICATION\n",
            "              precision    recall  f1-score   support\n",
            "\n",
            "           0       0.90      0.92      0.91      1635\n",
            "           1       0.68      0.74      0.70      1687\n",
            "           2       0.74      0.66      0.70      1718\n",
            "\n",
            "    accuracy                           0.77      5040\n",
            "   macro avg       0.77      0.77      0.77      5040\n",
            "weighted avg       0.77      0.77      0.77      5040\n",
            "\n",
            "NAIVE BAYES CLASSIFICATION\n",
            "              precision    recall  f1-score   support\n",
            "\n",
            "           0       0.66      0.93      0.77      1635\n",
            "           1       0.72      0.42      0.53      1687\n",
            "           2       0.67      0.68      0.67      1718\n",
            "\n",
            "    accuracy                           0.67      5040\n",
            "   macro avg       0.68      0.67      0.66      5040\n",
            "weighted avg       0.68      0.67      0.66      5040\n",
            "\n"
          ]
        }
      ]
    },
    {
      "cell_type": "markdown",
      "source": [
        "# With Preprocessing\n",
        "\n",
        "1. removed link\n",
        "2. removed linebreaks\n",
        "3. removed extra spaces\n",
        "4. removed punctuation\n",
        "5. removed stopwords\n",
        "6. lowercased the tweet\n",
        "7. extracted hashtags and added at the end of the sentence\n",
        "8. extracted mentions and added at the end of the sentence"
      ],
      "metadata": {
        "id": "EDAb6YeueBmc"
      }
    },
    {
      "cell_type": "code",
      "source": [
        "def clean_text(x):\n",
        "    x = re.sub(r'https?://\\S+', '', x) \n",
        "    x = re.sub(r'#\\w+', '', x) \n",
        "    x = re.sub(r'@\\w+', '', x) \n",
        "    x = re.sub(r'\\n',' ',x) \n",
        "    x = re.sub('\\s+', ' ', x).strip()\n",
        "    x = re.sub('\\.','',x) \n",
        "    for p in string.punctuation:\n",
        "        x = re.sub('\\{}'.format(p),'',x)\n",
        "    return x.lower()\n",
        "def find_hashtags(tweet):\n",
        "    return \" \".join([match.group(0)[1:] for match in re.finditer(r\"#\\w+\", tweet)]) or ''\n",
        "\n",
        "def find_mentions(tweet):\n",
        "    return \" \".join([match.group(0)[1:] for match in re.finditer(r\"@\\w+\", tweet)]) or ''\n",
        "\n",
        "def pre_process_text(df):\n",
        "    stop = stopwords.words('english')\n",
        "    df['clean_tweet'] = df['tweets'].apply(lambda x: clean_text(x))\n",
        "    df['hashtags'] = df['tweets'].apply(lambda x: find_hashtags(x))\n",
        "    df['mentions'] = df['tweets'].apply(lambda x: find_mentions(x))\n",
        "    df['sentiment'] = df['sentiment'].apply(lambda x: label_encoder(x))\n",
        "    df['clean_tweet_without_stopword'] = df['clean_tweet'].apply(lambda x:' '.join([word for word in x.split() if word not in stop]))\n",
        "    df['final'] = df['clean_tweet_without_stopword']+\" \"+df['hashtags']+\" \"+df['mentions']\n",
        "    # df['clean_tweet']+\" \"+\n",
        "    return df\n"
      ],
      "metadata": {
        "id": "H4Al7UwgeBLk"
      },
      "execution_count": 13,
      "outputs": []
    },
    {
      "cell_type": "code",
      "source": [
        "pdf = pd.concat([df3,df5,df8,df9]).reset_index(drop=True)\n",
        "pdf = dataset_balance(pdf)\n",
        "pdf = pre_process_text(df)\n",
        "pdf.tail()"
      ],
      "metadata": {
        "colab": {
          "base_uri": "https://localhost:8080/",
          "height": 337
        },
        "id": "pDEUZRUmeuvs",
        "outputId": "70b84771-6d86-47e5-f52a-bbbc41a228d9"
      },
      "execution_count": 16,
      "outputs": [
        {
          "output_type": "execute_result",
          "data": {
            "text/plain": [
              "       sentiment                                             tweets  \\\n",
              "25194          0  One of my Magic Mike XXL co-workers and the co...   \n",
              "25195          0  Sreven Taylor will look pretty daft after the ...   \n",
              "25196          0  i hope justin's concert thursday gets cancelle...   \n",
              "25197          0  About as much interest in today as I do in the...   \n",
              "25198          0  @Becker_Boris It\\u2019s almost 2 am in BKK but...   \n",
              "\n",
              "                                             clean_tweet hashtags  \\\n",
              "25194  one of my magic mike xxl coworkers and the coo...            \n",
              "25195  sreven taylor will look pretty daft after the ...            \n",
              "25196  i hope justins concert thursday gets cancelled...            \n",
              "25197  about as much interest in today as i do in the...     zero   \n",
              "25198  itu2019s almost 2 am in bkk but i canu2019t sl...            \n",
              "\n",
              "           mentions                       clean_tweet_without_stopword  \\\n",
              "25194                one magic mike xxl coworkers coordinator premi...   \n",
              "25195                sreven taylor look pretty daft mackems win tom...   \n",
              "25196                hope justins concert thursday gets cancelled b...   \n",
              "25197                              much interest today rugby world cup   \n",
              "25198  Becker_Boris  itu2019s almost 2 bkk canu2019t sleep game isn...   \n",
              "\n",
              "                                                   final  \n",
              "25194  one magic mike xxl coworkers coordinator premi...  \n",
              "25195  sreven taylor look pretty daft mackems win tom...  \n",
              "25196  hope justins concert thursday gets cancelled b...  \n",
              "25197          much interest today rugby world cup zero   \n",
              "25198  itu2019s almost 2 bkk canu2019t sleep game isn...  "
            ],
            "text/html": [
              "\n",
              "  <div id=\"df-c8d31bf5-30be-4020-b0b9-62529d79ad30\">\n",
              "    <div class=\"colab-df-container\">\n",
              "      <div>\n",
              "<style scoped>\n",
              "    .dataframe tbody tr th:only-of-type {\n",
              "        vertical-align: middle;\n",
              "    }\n",
              "\n",
              "    .dataframe tbody tr th {\n",
              "        vertical-align: top;\n",
              "    }\n",
              "\n",
              "    .dataframe thead th {\n",
              "        text-align: right;\n",
              "    }\n",
              "</style>\n",
              "<table border=\"1\" class=\"dataframe\">\n",
              "  <thead>\n",
              "    <tr style=\"text-align: right;\">\n",
              "      <th></th>\n",
              "      <th>sentiment</th>\n",
              "      <th>tweets</th>\n",
              "      <th>clean_tweet</th>\n",
              "      <th>hashtags</th>\n",
              "      <th>mentions</th>\n",
              "      <th>clean_tweet_without_stopword</th>\n",
              "      <th>final</th>\n",
              "    </tr>\n",
              "  </thead>\n",
              "  <tbody>\n",
              "    <tr>\n",
              "      <th>25194</th>\n",
              "      <td>0</td>\n",
              "      <td>One of my Magic Mike XXL co-workers and the co...</td>\n",
              "      <td>one of my magic mike xxl coworkers and the coo...</td>\n",
              "      <td></td>\n",
              "      <td></td>\n",
              "      <td>one magic mike xxl coworkers coordinator premi...</td>\n",
              "      <td>one magic mike xxl coworkers coordinator premi...</td>\n",
              "    </tr>\n",
              "    <tr>\n",
              "      <th>25195</th>\n",
              "      <td>0</td>\n",
              "      <td>Sreven Taylor will look pretty daft after the ...</td>\n",
              "      <td>sreven taylor will look pretty daft after the ...</td>\n",
              "      <td></td>\n",
              "      <td></td>\n",
              "      <td>sreven taylor look pretty daft mackems win tom...</td>\n",
              "      <td>sreven taylor look pretty daft mackems win tom...</td>\n",
              "    </tr>\n",
              "    <tr>\n",
              "      <th>25196</th>\n",
              "      <td>0</td>\n",
              "      <td>i hope justin's concert thursday gets cancelle...</td>\n",
              "      <td>i hope justins concert thursday gets cancelled...</td>\n",
              "      <td></td>\n",
              "      <td></td>\n",
              "      <td>hope justins concert thursday gets cancelled b...</td>\n",
              "      <td>hope justins concert thursday gets cancelled b...</td>\n",
              "    </tr>\n",
              "    <tr>\n",
              "      <th>25197</th>\n",
              "      <td>0</td>\n",
              "      <td>About as much interest in today as I do in the...</td>\n",
              "      <td>about as much interest in today as i do in the...</td>\n",
              "      <td>zero</td>\n",
              "      <td></td>\n",
              "      <td>much interest today rugby world cup</td>\n",
              "      <td>much interest today rugby world cup zero</td>\n",
              "    </tr>\n",
              "    <tr>\n",
              "      <th>25198</th>\n",
              "      <td>0</td>\n",
              "      <td>@Becker_Boris It\\u2019s almost 2 am in BKK but...</td>\n",
              "      <td>itu2019s almost 2 am in bkk but i canu2019t sl...</td>\n",
              "      <td></td>\n",
              "      <td>Becker_Boris</td>\n",
              "      <td>itu2019s almost 2 bkk canu2019t sleep game isn...</td>\n",
              "      <td>itu2019s almost 2 bkk canu2019t sleep game isn...</td>\n",
              "    </tr>\n",
              "  </tbody>\n",
              "</table>\n",
              "</div>\n",
              "      <button class=\"colab-df-convert\" onclick=\"convertToInteractive('df-c8d31bf5-30be-4020-b0b9-62529d79ad30')\"\n",
              "              title=\"Convert this dataframe to an interactive table.\"\n",
              "              style=\"display:none;\">\n",
              "        \n",
              "  <svg xmlns=\"http://www.w3.org/2000/svg\" height=\"24px\"viewBox=\"0 0 24 24\"\n",
              "       width=\"24px\">\n",
              "    <path d=\"M0 0h24v24H0V0z\" fill=\"none\"/>\n",
              "    <path d=\"M18.56 5.44l.94 2.06.94-2.06 2.06-.94-2.06-.94-.94-2.06-.94 2.06-2.06.94zm-11 1L8.5 8.5l.94-2.06 2.06-.94-2.06-.94L8.5 2.5l-.94 2.06-2.06.94zm10 10l.94 2.06.94-2.06 2.06-.94-2.06-.94-.94-2.06-.94 2.06-2.06.94z\"/><path d=\"M17.41 7.96l-1.37-1.37c-.4-.4-.92-.59-1.43-.59-.52 0-1.04.2-1.43.59L10.3 9.45l-7.72 7.72c-.78.78-.78 2.05 0 2.83L4 21.41c.39.39.9.59 1.41.59.51 0 1.02-.2 1.41-.59l7.78-7.78 2.81-2.81c.8-.78.8-2.07 0-2.86zM5.41 20L4 18.59l7.72-7.72 1.47 1.35L5.41 20z\"/>\n",
              "  </svg>\n",
              "      </button>\n",
              "      \n",
              "  <style>\n",
              "    .colab-df-container {\n",
              "      display:flex;\n",
              "      flex-wrap:wrap;\n",
              "      gap: 12px;\n",
              "    }\n",
              "\n",
              "    .colab-df-convert {\n",
              "      background-color: #E8F0FE;\n",
              "      border: none;\n",
              "      border-radius: 50%;\n",
              "      cursor: pointer;\n",
              "      display: none;\n",
              "      fill: #1967D2;\n",
              "      height: 32px;\n",
              "      padding: 0 0 0 0;\n",
              "      width: 32px;\n",
              "    }\n",
              "\n",
              "    .colab-df-convert:hover {\n",
              "      background-color: #E2EBFA;\n",
              "      box-shadow: 0px 1px 2px rgba(60, 64, 67, 0.3), 0px 1px 3px 1px rgba(60, 64, 67, 0.15);\n",
              "      fill: #174EA6;\n",
              "    }\n",
              "\n",
              "    [theme=dark] .colab-df-convert {\n",
              "      background-color: #3B4455;\n",
              "      fill: #D2E3FC;\n",
              "    }\n",
              "\n",
              "    [theme=dark] .colab-df-convert:hover {\n",
              "      background-color: #434B5C;\n",
              "      box-shadow: 0px 1px 3px 1px rgba(0, 0, 0, 0.15);\n",
              "      filter: drop-shadow(0px 1px 2px rgba(0, 0, 0, 0.3));\n",
              "      fill: #FFFFFF;\n",
              "    }\n",
              "  </style>\n",
              "\n",
              "      <script>\n",
              "        const buttonEl =\n",
              "          document.querySelector('#df-c8d31bf5-30be-4020-b0b9-62529d79ad30 button.colab-df-convert');\n",
              "        buttonEl.style.display =\n",
              "          google.colab.kernel.accessAllowed ? 'block' : 'none';\n",
              "\n",
              "        async function convertToInteractive(key) {\n",
              "          const element = document.querySelector('#df-c8d31bf5-30be-4020-b0b9-62529d79ad30');\n",
              "          const dataTable =\n",
              "            await google.colab.kernel.invokeFunction('convertToInteractive',\n",
              "                                                     [key], {});\n",
              "          if (!dataTable) return;\n",
              "\n",
              "          const docLinkHtml = 'Like what you see? Visit the ' +\n",
              "            '<a target=\"_blank\" href=https://colab.research.google.com/notebooks/data_table.ipynb>data table notebook</a>'\n",
              "            + ' to learn more about interactive tables.';\n",
              "          element.innerHTML = '';\n",
              "          dataTable['output_type'] = 'display_data';\n",
              "          await google.colab.output.renderOutput(dataTable, element);\n",
              "          const docLink = document.createElement('div');\n",
              "          docLink.innerHTML = docLinkHtml;\n",
              "          element.appendChild(docLink);\n",
              "        }\n",
              "      </script>\n",
              "    </div>\n",
              "  </div>\n",
              "  "
            ]
          },
          "metadata": {},
          "execution_count": 16
        }
      ]
    },
    {
      "cell_type": "code",
      "source": [
        "tf_idf2 = TfidfVectorizer(ngram_range=(1,3))\n",
        "X = tf_idf2.fit_transform(pdf['final'])\n",
        "Y = pdf.sentiment\n",
        "X_train, X_test, Y_train, Y_test = train_test_split(X, Y, train_size = 0.8, shuffle = True)"
      ],
      "metadata": {
        "id": "1TWf4PMHfFT8"
      },
      "execution_count": 17,
      "outputs": []
    },
    {
      "cell_type": "code",
      "source": [
        "model_LR2 = LogisticRegression(max_iter=20000).fit(X_train,Y_train)\n",
        "model_SVM2 = SVC(kernel='rbf', random_state = 42).fit(X_train, Y_train)\n",
        "model_NB2 = ComplementNB().fit(X_train,Y_train)"
      ],
      "metadata": {
        "id": "w0nZE8RdfVGz"
      },
      "execution_count": 18,
      "outputs": []
    },
    {
      "cell_type": "markdown",
      "source": [
        "# Score on Test Set"
      ],
      "metadata": {
        "id": "heIbf8GSfZx5"
      }
    },
    {
      "cell_type": "code",
      "source": [
        "LR_score = classification_report(Y_test, model_LR2.predict(X_test))\n",
        "SVC_score = classification_report(Y_test, model_SVM2.predict(X_test))\n",
        "NB_score = classification_report(Y_test, model_NB2.predict(X_test))\n",
        "print(\"LOGISTIC REGRESSION\")\n",
        "print(LR_score)\n",
        "print(\"SUPPORT VECTOR CLASSIFICATION\")\n",
        "print(SVC_score)\n",
        "print(\"NAIVE BAYES CLASSIFICATION\")\n",
        "print(NB_score)"
      ],
      "metadata": {
        "colab": {
          "base_uri": "https://localhost:8080/"
        },
        "id": "S35U9dYqfZMG",
        "outputId": "db1d5db7-df9e-4a8d-eba8-43438d362e93"
      },
      "execution_count": 19,
      "outputs": [
        {
          "output_type": "stream",
          "name": "stdout",
          "text": [
            "LOGISTIC REGRESSION\n",
            "              precision    recall  f1-score   support\n",
            "\n",
            "           0       0.88      0.91      0.89      1717\n",
            "           1       0.66      0.68      0.67      1622\n",
            "           2       0.73      0.68      0.70      1701\n",
            "\n",
            "    accuracy                           0.76      5040\n",
            "   macro avg       0.76      0.76      0.76      5040\n",
            "weighted avg       0.76      0.76      0.76      5040\n",
            "\n",
            "SUPPORT VECTOR CLASSIFICATION\n",
            "              precision    recall  f1-score   support\n",
            "\n",
            "           0       0.99      0.90      0.94      1717\n",
            "           1       0.64      0.77      0.70      1622\n",
            "           2       0.73      0.66      0.69      1701\n",
            "\n",
            "    accuracy                           0.78      5040\n",
            "   macro avg       0.79      0.78      0.78      5040\n",
            "weighted avg       0.79      0.78      0.78      5040\n",
            "\n",
            "NAIVE BAYES CLASSIFICATION\n",
            "              precision    recall  f1-score   support\n",
            "\n",
            "           0       0.69      0.97      0.81      1717\n",
            "           1       0.71      0.42      0.53      1622\n",
            "           2       0.70      0.69      0.69      1701\n",
            "\n",
            "    accuracy                           0.70      5040\n",
            "   macro avg       0.70      0.69      0.67      5040\n",
            "weighted avg       0.70      0.70      0.68      5040\n",
            "\n"
          ]
        }
      ]
    }
  ]
}